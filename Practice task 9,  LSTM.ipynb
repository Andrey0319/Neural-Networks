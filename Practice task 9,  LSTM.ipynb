{
 "cells": [
  {
   "cell_type": "markdown",
   "metadata": {},
   "source": [
    "## Семинар 9: \"LSTM\""
   ]
  },
  {
   "cell_type": "markdown",
   "metadata": {},
   "source": [
    "ФИО: Притугин Михаил Алексеевич"
   ]
  },
  {
   "cell_type": "code",
   "execution_count": 1,
   "metadata": {},
   "outputs": [],
   "source": [
    "import numpy as np\n",
    "from sklearn.model_selection import train_test_split\n",
    "import matplotlib.pyplot as plt\n",
    "from torch import optim\n",
    "import torch\n",
    "from torch import nn\n",
    "from torch.autograd import Variable\n",
    "import pandas\n",
    "from sklearn.preprocessing import MinMaxScaler\n",
    "from torch.utils.data import Dataset, DataLoader\n",
    "from torch.optim.lr_scheduler import StepLR\n",
    "%matplotlib inline"
   ]
  },
  {
   "cell_type": "markdown",
   "metadata": {},
   "source": [
    "Этот семинар посвящен реализации RNN в pyTorch"
   ]
  },
  {
   "cell_type": "markdown",
   "metadata": {},
   "source": [
    "## Задание 1"
   ]
  },
  {
   "cell_type": "markdown",
   "metadata": {},
   "source": [
    "Напишите свою реализацию LSTM."
   ]
  },
  {
   "cell_type": "markdown",
   "metadata": {},
   "source": [
    "<img src=\"https://cdn-images-1.medium.com/max/1600/1*hl9UVtgIcQkDIGD8VFykdw.png\" width=\"640\">"
   ]
  },
  {
   "cell_type": "code",
   "execution_count": 2,
   "metadata": {},
   "outputs": [],
   "source": [
    "class LSTM(nn.Module):\n",
    "    def __init__(self, input_size, hidden_size):\n",
    "        super(LSTM, self).__init__()\n",
    "        self.input_size = input_size\n",
    "        self.hidden_size = hidden_size\n",
    "        self.gate_size = 4 * self.hidden_size\n",
    "        \n",
    "        self.W_i = nn.Parameter(torch.Tensor(input_size, self.gate_size).zero_())\n",
    "        self.W_h = nn.Parameter(torch.Tensor(hidden_size, self.gate_size).zero_())\n",
    "        self.b = nn.Parameter(torch.Tensor(self.gate_size).zero_())\n",
    "        \n",
    "        \n",
    "    def forward(self, inputs, hidden):\n",
    "        h, c = hidden\n",
    "        bs = h.size(0)\n",
    "        seq_length = inputs.size(0)\n",
    "        out = Variable(torch.Tensor(seq_length, bs, self.hidden_size))\n",
    "        \n",
    "        for i, inp in enumerate(inputs):\n",
    "            S = (torch.matmul(inp, self.W_i) + torch.matmul(h, self.W_h) + self.b)\n",
    "            S = S.view(bs, 4, self.hidden_size)\n",
    "            \n",
    "            i_1 = torch.sigmoid(S[:,0,:])\n",
    "            f_1 = torch.sigmoid(S[:,1,:])\n",
    "            g_1 = torch.tanh(S[:,2,:])\n",
    "            o_1 = torch.sigmoid(S[:,3,:])\n",
    "            \n",
    "            c = f_1 * c + i_1 * g_1\n",
    "            h = o_1 * torch.tanh(c)\n",
    "            out[i] = h\n",
    "        return out, (h, c)"
   ]
  },
  {
   "cell_type": "markdown",
   "metadata": {
    "collapsed": true
   },
   "source": [
    "## Задание 2"
   ]
  },
  {
   "cell_type": "markdown",
   "metadata": {},
   "source": [
    "Используя свою реализацию LSTM и torch.nn.LSTM (torch.nn.GRU) решить задачу предсказания временного ряда.\n",
    "Попробуйте разные длины входной и выходной последовательности."
   ]
  },
  {
   "cell_type": "markdown",
   "metadata": {},
   "source": [
    "Данные о количестве пассажиров\n",
    "https://datamarket.com/data/set/22u3/international-airline-passengers-monthly-totals-in-thousands-jan-49-dec-60#!ds=22u3&display=line"
   ]
  },
  {
   "cell_type": "code",
   "execution_count": 29,
   "metadata": {},
   "outputs": [
    {
     "data": {
      "image/png": "[encoded data removed]",
      "text/plain": [
       "<Figure size 432x288 with 1 Axes>"
      ]
     },
     "metadata": {
      "needs_background": "light"
     },
     "output_type": "display_data"
    }
   ],
   "source": [
    "%matplotlib inline\n",
    "dataset = pandas.read_csv('international-airline-passengers.csv', usecols=[1], delimiter=\";\", engine='python', skipfooter=3)\n",
    "plt.plot(dataset)\n",
    "plt.show()"
   ]
  },
  {
   "cell_type": "code",
   "execution_count": 30,
   "metadata": {},
   "outputs": [],
   "source": [
    "# подготовливаем данные\n",
    "\n",
    "dataset = dataset.values\n",
    "dataset = dataset.astype('float32')\n",
    "scaler = MinMaxScaler(feature_range=(0, 1))\n",
    "dataset = scaler.fit_transform(dataset)"
   ]
  },
  {
   "cell_type": "code",
   "execution_count": 31,
   "metadata": {},
   "outputs": [
    {
     "name": "stdout",
     "output_type": "stream",
     "text": [
      "96 48\n"
     ]
    }
   ],
   "source": [
    "# разбиваем данные на train / test\n",
    "train_size = int(len(dataset) * 0.67)\n",
    "test_size = len(dataset) - train_size\n",
    "train, test = dataset[0:train_size,:], dataset[train_size:len(dataset),:]\n",
    "print(len(train), len(test))\n"
   ]
  },
  {
   "cell_type": "code",
   "execution_count": 32,
   "metadata": {},
   "outputs": [],
   "source": [
    "# Целевая переменная - сдвинутая последовательность значений входов\n",
    "\n",
    "def create_dataset(dataset, look_back=1):\n",
    "    dataX, dataY = [], []\n",
    "    for i in range(len(dataset)-look_back-1):\n",
    "        a = dataset[i:(i+look_back), 0]\n",
    "        dataX.append(a)\n",
    "        dataY.append(dataset[i + look_back, 0])\n",
    "\n",
    "    return np.array(dataX), np.array(dataY)"
   ]
  },
  {
   "cell_type": "code",
   "execution_count": 33,
   "metadata": {},
   "outputs": [],
   "source": [
    "# Пример подготовленных данных\n",
    "\n",
    "look_back = 1\n",
    "trainX, trainY = create_dataset(train, look_back)\n",
    "testX, testY = create_dataset(test, look_back)\n",
    "\n",
    "trainX = np.reshape(trainX, (trainX.shape[0], 1, trainX.shape[1]))\n",
    "testX = np.reshape(testX, (testX.shape[0], 1, testX.shape[1]))"
   ]
  },
  {
   "cell_type": "code",
   "execution_count": 34,
   "metadata": {},
   "outputs": [],
   "source": [
    "look_back = 40\n",
    "trainX, trainY = create_dataset(train, look_back)\n",
    "testX, testY = create_dataset(test, look_back)"
   ]
  },
  {
   "cell_type": "code",
   "execution_count": 35,
   "metadata": {},
   "outputs": [],
   "source": [
    "class PassengerDataset(Dataset):\n",
    "    def __init__(self, trainX, trainY):\n",
    "        self.trainX = trainX\n",
    "        self.trainY = trainY\n",
    "\n",
    "    def __len__(self):\n",
    "        return len(self.trainY)\n",
    "\n",
    "    def __getitem__(self, idx):\n",
    "        return self.trainX[idx], self.trainY[idx]\n",
    "    \n",
    "train_dataset = PassengerDataset(trainX, trainY)\n",
    "train_dataloader = DataLoader(train_dataset, shuffle=True, batch_size=64)\n",
    "\n",
    "test_dataset = PassengerDataset(testX, testY)\n",
    "test_dataloader = DataLoader(test_dataset, batch_size=64)"
   ]
  },
  {
   "cell_type": "markdown",
   "metadata": {},
   "source": [
    "# Torch Realization"
   ]
  },
  {
   "cell_type": "code",
   "execution_count": 13,
   "metadata": {},
   "outputs": [],
   "source": [
    "class TorchLSTM(nn.Module):\n",
    "    def __init__(self, hidden_dim, num_layers=1):\n",
    "        super(TorchLSTM, self).__init__()\n",
    "        self.hidden_dim = hidden_dim\n",
    "        self.num_layers = num_layers\n",
    "\n",
    "        self.lstm = nn.LSTM(1, hidden_dim, num_layers=num_layers)\n",
    "\n",
    "        self.hidden2out = nn.Sequential(nn.Linear(hidden_dim, 1))\n",
    "\n",
    "    def forward(self, inp):\n",
    "        seq_length = inp.size(1)\n",
    "        batch_size = inp.size(0)\n",
    "        hidden = (Variable(torch.zeros(self.num_layers, batch_size, self.hidden_dim)).cpu(),\n",
    "                  Variable(torch.zeros(self.num_layers, batch_size, self.hidden_dim)).cpu())\n",
    "        inp = pack_sequence(inp)\n",
    "        \n",
    "        lstm_out, self.hidden = self.lstm(inp, hidden)\n",
    "        lstm_out, _ = pad_packed_sequence(lstm_out, False)\n",
    "        lstm_out = lstm_out[-1]\n",
    "        \n",
    "        out = self.hidden2out(lstm_out.view(batch_size, self.hidden_dim))\n",
    "        return out"
   ]
  },
  {
   "cell_type": "code",
   "execution_count": 14,
   "metadata": {},
   "outputs": [],
   "source": [
    "def generate(model, n, inputs, batch_first=True):\n",
    "    result = np.zeros(n + len(inputs))\n",
    "    result[:len(inputs)] = inputs\n",
    "    inp = 0\n",
    "    for i in range(n):\n",
    "        if batch_first:\n",
    "            inp = Variable(torch.FloatTensor(result[i:i+len(inputs)])).view(1, len(inputs), 1).cpu()\n",
    "        else:\n",
    "            inp = Variable(torch.FloatTensor(result[i:i+len(inputs)])).view(len(inputs), 1, 1).cpu()\n",
    "        res = lstm(inp)\n",
    "        result[i + len(inputs)] = res[-1].cpu().data.numpy()\n",
    "    return result"
   ]
  },
  {
   "cell_type": "code",
   "execution_count": 15,
   "metadata": {},
   "outputs": [],
   "source": [
    "lstm = TorchLSTM(8, 1).cpu()"
   ]
  },
  {
   "cell_type": "code",
   "execution_count": 16,
   "metadata": {},
   "outputs": [],
   "source": [
    "optimizer = torch.optim.Adam(lstm.parameters(), lr=1e-2)\n",
    "scheduler = StepLR(optimizer, 1)"
   ]
  },
  {
   "cell_type": "code",
   "execution_count": 17,
   "metadata": {},
   "outputs": [],
   "source": [
    "from time import time\n",
    "from torch.nn.utils.rnn import pack_sequence\n",
    "from torch.nn.utils.rnn import pad_packed_sequence"
   ]
  },
  {
   "cell_type": "code",
   "execution_count": 18,
   "metadata": {},
   "outputs": [
    {
     "name": "stdout",
     "output_type": "stream",
     "text": [
      "Эпоха: 0\tОшибка: 2.851e-01\tВремя: 0.04s\n",
      "Эпоха: 100\tОшибка: 3.573e-03\tВремя: 1.11s\n",
      "Эпоха: 200\tОшибка: 2.320e-03\tВремя: 1.08s\n",
      "Эпоха: 300\tОшибка: 1.677e-03\tВремя: 1.32s\n",
      "Эпоха: 400\tОшибка: 1.295e-03\tВремя: 1.37s\n",
      "Эпоха: 500\tОшибка: 9.447e-04\tВремя: 1.39s\n",
      "Эпоха: 600\tОшибка: 1.685e-03\tВремя: 1.48s\n",
      "Эпоха: 700\tОшибка: 7.482e-04\tВремя: 1.17s\n",
      "Эпоха: 800\tОшибка: 8.159e-04\tВремя: 1.43s\n",
      "Эпоха: 900\tОшибка: 6.323e-04\tВремя: 1.36s\n",
      "Эпоха: 0\tОшибка: 6.689e-04\tВремя: 1.40s\n",
      "Эпоха: 100\tОшибка: 5.552e-04\tВремя: 1.32s\n",
      "Эпоха: 200\tОшибка: 5.384e-04\tВремя: 1.31s\n",
      "Эпоха: 300\tОшибка: 3.865e-04\tВремя: 1.30s\n",
      "Эпоха: 400\tОшибка: 5.479e-04\tВремя: 1.31s\n",
      "Эпоха: 500\tОшибка: 5.516e-04\tВремя: 1.31s\n",
      "Эпоха: 600\tОшибка: 3.469e-04\tВремя: 1.48s\n",
      "Эпоха: 700\tОшибка: 3.644e-04\tВремя: 1.20s\n",
      "Эпоха: 800\tОшибка: 4.401e-04\tВремя: 1.61s\n",
      "Эпоха: 900\tОшибка: 3.148e-04\tВремя: 1.45s\n",
      "Эпоха: 0\tОшибка: 3.302e-04\tВремя: 1.78s\n",
      "Эпоха: 100\tОшибка: 3.418e-04\tВремя: 1.40s\n",
      "Эпоха: 200\tОшибка: 2.759e-04\tВремя: 1.29s\n",
      "Эпоха: 300\tОшибка: 2.549e-04\tВремя: 1.32s\n",
      "Эпоха: 400\tОшибка: 3.624e-04\tВремя: 1.37s\n",
      "Эпоха: 500\tОшибка: 3.203e-04\tВремя: 1.43s\n",
      "Эпоха: 600\tОшибка: 3.373e-04\tВремя: 1.43s\n",
      "Эпоха: 700\tОшибка: 3.593e-04\tВремя: 1.40s\n",
      "Эпоха: 800\tОшибка: 5.306e-04\tВремя: 1.34s\n",
      "Эпоха: 900\tОшибка: 3.567e-04\tВремя: 1.35s\n"
     ]
    }
   ],
   "source": [
    "n_epochs = 1000\n",
    "loss_f = nn.MSELoss()\n",
    "start = time()\n",
    "for reduce in range(3):\n",
    "    for epoch in range(n_epochs):\n",
    "        losses = []\n",
    "        for X, Y in train_dataloader:\n",
    "            lstm.zero_grad()\n",
    "            X = Variable(torch.FloatTensor(X)).view(-1, look_back, 1).cpu()\n",
    "            Y = Variable(torch.FloatTensor(Y)).view(-1, 1).cpu()\n",
    "            p = lstm(X)\n",
    "            \n",
    "            loss = loss_f(p, Y)\n",
    "            losses.append(loss.data.item())\n",
    "            loss.backward()\n",
    "            optimizer.step()\n",
    "        if epoch % 100 == 0:\n",
    "            elapsed = time() - start\n",
    "            print('Эпоха: {}\\tОшибка: {:.3e}\\tВремя: {:.2f}s'.format(epoch, np.mean(losses), elapsed))\n",
    "            start = time()\n",
    "    scheduler.step()"
   ]
  },
  {
   "cell_type": "code",
   "execution_count": 19,
   "metadata": {},
   "outputs": [
    {
     "data": {
      "text/plain": [
       "<matplotlib.legend.Legend at 0x7fc0e14e1990>"
      ]
     },
     "execution_count": 19,
     "metadata": {},
     "output_type": "execute_result"
    },
    {
     "data": {
      "image/png": "[encoded data removed]",
      "text/plain": [
       "<Figure size 432x288 with 1 Axes>"
      ]
     },
     "metadata": {
      "needs_background": "light"
     },
     "output_type": "display_data"
    }
   ],
   "source": [
    "seq = train[:,0]\n",
    "start = 0\n",
    "plength = 70\n",
    "blength = 20\n",
    "base =  seq[start:start+blength]\n",
    "predicted = generate(lstm, plength, base)\n",
    "actual = seq[start:start+plength+blength]\n",
    "plt.plot(predicted, label='predicted')\n",
    "plt.plot(actual, label='actual')\n",
    "plt.legend(fontsize=16)"
   ]
  },
  {
   "cell_type": "markdown",
   "metadata": {},
   "source": [
    "# My realization"
   ]
  },
  {
   "cell_type": "code",
   "execution_count": 36,
   "metadata": {},
   "outputs": [],
   "source": [
    "class MyLSTM(nn.Module):\n",
    "    def __init__(self, hidden_dim):\n",
    "        super(MyLSTM, self).__init__()\n",
    "        self.hidden_dim = hidden_dim\n",
    "        self.lstm = LSTM(1, hidden_dim)\n",
    "        self.hidden2out = nn.Sequential(nn.Linear(hidden_dim, 1))\n",
    "\n",
    "    def forward(self, inp):\n",
    "        seq_length = inp.size(0)\n",
    "        batch_size = inp.size(1)\n",
    "        hidden = (Variable(torch.zeros(batch_size, self.hidden_dim)).cpu(),\n",
    "                  Variable(torch.zeros(batch_size, self.hidden_dim)).cpu())\n",
    "        \n",
    "        lstm_out, self.hidden = self.lstm(inp, hidden)\n",
    "        lstm_out = lstm_out[-1]\n",
    "        \n",
    "        out = self.hidden2out(lstm_out.view(batch_size, self.hidden_dim))\n",
    "        return out"
   ]
  },
  {
   "cell_type": "code",
   "execution_count": 37,
   "metadata": {},
   "outputs": [],
   "source": [
    "lstm = MyLSTM(8).cpu()"
   ]
  },
  {
   "cell_type": "code",
   "execution_count": 38,
   "metadata": {},
   "outputs": [],
   "source": [
    "optimizer = torch.optim.Adam(lstm.parameters(), lr=1e-1)\n",
    "scheduler = StepLR(optimizer, 1)"
   ]
  },
  {
   "cell_type": "code",
   "execution_count": 39,
   "metadata": {},
   "outputs": [
    {
     "name": "stdout",
     "output_type": "stream",
     "text": [
      "Эпоха: 0\tОшибка: 5.885e-02\tВремя: 0.03s\n",
      "Эпоха: 100\tОшибка: 2.054e-03\tВремя: 1.69s\n",
      "Эпоха: 200\tОшибка: 1.992e-03\tВремя: 1.68s\n",
      "Эпоха: 300\tОшибка: 1.959e-03\tВремя: 1.74s\n",
      "Эпоха: 400\tОшибка: 1.930e-03\tВремя: 1.69s\n",
      "Эпоха: 500\tОшибка: 1.888e-03\tВремя: 1.73s\n",
      "Эпоха: 600\tОшибка: 1.815e-03\tВремя: 1.75s\n",
      "Эпоха: 700\tОшибка: 6.644e-03\tВремя: 1.75s\n",
      "Эпоха: 800\tОшибка: 1.712e-03\tВремя: 1.62s\n",
      "Эпоха: 900\tОшибка: 1.249e-03\tВремя: 1.59s\n",
      "Эпоха: 0\tОшибка: 1.510e-03\tВремя: 1.60s\n",
      "Эпоха: 100\tОшибка: 1.452e-03\tВремя: 1.60s\n",
      "Эпоха: 200\tОшибка: 1.380e-03\tВремя: 1.59s\n",
      "Эпоха: 300\tОшибка: 1.237e-03\tВремя: 1.60s\n",
      "Эпоха: 400\tОшибка: 1.027e-03\tВремя: 1.60s\n",
      "Эпоха: 500\tОшибка: 8.448e-04\tВремя: 1.60s\n",
      "Эпоха: 600\tОшибка: 7.197e-04\tВремя: 1.60s\n",
      "Эпоха: 700\tОшибка: 5.674e-04\tВремя: 1.60s\n",
      "Эпоха: 800\tОшибка: 4.817e-04\tВремя: 1.60s\n",
      "Эпоха: 900\tОшибка: 4.139e-04\tВремя: 1.60s\n",
      "Эпоха: 0\tОшибка: 3.319e-04\tВремя: 1.64s\n",
      "Эпоха: 100\tОшибка: 3.228e-04\tВремя: 1.64s\n",
      "Эпоха: 200\tОшибка: 3.135e-04\tВремя: 1.85s\n",
      "Эпоха: 300\tОшибка: 3.039e-04\tВремя: 1.70s\n",
      "Эпоха: 400\tОшибка: 2.942e-04\tВремя: 1.78s\n",
      "Эпоха: 500\tОшибка: 2.844e-04\tВремя: 1.84s\n",
      "Эпоха: 600\tОшибка: 2.747e-04\tВремя: 1.85s\n",
      "Эпоха: 700\tОшибка: 2.651e-04\tВремя: 1.70s\n",
      "Эпоха: 800\tОшибка: 2.558e-04\tВремя: 1.79s\n",
      "Эпоха: 900\tОшибка: 2.467e-04\tВремя: 1.78s\n"
     ]
    }
   ],
   "source": [
    "n_epochs = 1000\n",
    "loss_f = nn.MSELoss()\n",
    "start = time()\n",
    "for reduce in range(3):\n",
    "    for epoch in range(n_epochs):\n",
    "        losses = []\n",
    "        for X, Y in train_dataloader:\n",
    "            lstm.zero_grad()\n",
    "            X = Variable(X.permute(1,0).unsqueeze(-1)).cpu()\n",
    "            Y = Variable(Y).cpu()\n",
    "            p = lstm(X).squeeze()\n",
    "            \n",
    "            loss = loss_f(p, Y)\n",
    "            losses.append(loss.data.item())\n",
    "            loss.backward()\n",
    "            optimizer.step()\n",
    "        if epoch % 100 == 0:\n",
    "            elapsed = time() - start\n",
    "            print('Эпоха: {}\\tОшибка: {:.3e}\\tВремя: {:.2f}s'.format(epoch, np.mean(losses), elapsed))\n",
    "            start = time()\n",
    "    scheduler.step()"
   ]
  },
  {
   "cell_type": "code",
   "execution_count": 47,
   "metadata": {},
   "outputs": [
    {
     "data": {
      "text/plain": [
       "<matplotlib.legend.Legend at 0x7fc160094550>"
      ]
     },
     "execution_count": 47,
     "metadata": {},
     "output_type": "execute_result"
    },
    {
     "data": {
      "image/png": "[encoded data removed]",
      "text/plain": [
       "<Figure size 432x288 with 1 Axes>"
      ]
     },
     "metadata": {
      "needs_background": "light"
     },
     "output_type": "display_data"
    }
   ],
   "source": [
    "seq = train.reshape(-1)\n",
    "start = 0\n",
    "plength = 20\n",
    "blength = 60\n",
    "base =  seq[start:start+blength]\n",
    "predicted = generate(lstm, plength, base, batch_first=0)\n",
    "actual = seq[start:start+plength+blength]\n",
    "plt.plot(predicted, label='predicted')\n",
    "plt.plot(actual, label='actual')\n",
    "plt.legend(fontsize=16)"
   ]
  },
  {
   "cell_type": "markdown",
   "metadata": {},
   "source": [
    "#### Feedback (опционально)"
   ]
  },
  {
   "cell_type": "markdown",
   "metadata": {},
   "source": [
    "Здесь вы можете оставить список опечаток из лекции или семинара:"
   ]
  },
  {
   "cell_type": "raw",
   "metadata": {},
   "source": []
  },
  {
   "cell_type": "markdown",
   "metadata": {},
   "source": [
    "Здесь вы можете оставить комментарии по лекции или семинару:"
   ]
  },
  {
   "cell_type": "raw",
   "metadata": {},
   "source": []
  }
 ],
 "metadata": {
  "kernelspec": {
   "display_name": "Python 3",
   "language": "python",
   "name": "python3"
  },
  "language_info": {
   "codemirror_mode": {
    "name": "ipython",
    "version": 3
   },
   "file_extension": ".py",
   "mimetype": "text/x-python",
   "name": "python",
   "nbconvert_exporter": "python",
   "pygments_lexer": "ipython3",
   "version": "3.7.4"
  },
  "latex_envs": {
   "bibliofile": "biblio.bib",
   "cite_by": "apalike",
   "current_citInitial": 1,
   "eqLabelWithNumbers": true,
   "eqNumInitial": 0
  }
 },
 "nbformat": 4,
 "nbformat_minor": 1
}
