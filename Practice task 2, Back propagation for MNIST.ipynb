{
 "cells": [
  {
   "cell_type": "markdown",
   "metadata": {},
   "source": [
    "## Семинар 2 \"Распознавание рукописных цифр\""
   ]
  },
  {
   "cell_type": "markdown",
   "metadata": {},
   "source": [
    "ФИО: "
   ]
  },
  {
   "cell_type": "markdown",
   "metadata": {},
   "source": [
    "В этом задании мы используем нейронную сеть из предыдущего семинара для распознавания рукописных цифр. Также мы исследуем как влияет выбор нелинейности и предобработка данных на качество классификации. \n",
    "\n",
    "Чтобы не тратить время на подготовку данных, мы прилагаем готовый код с примером использования для получения обучающей и тестовой выборок. Для запуска скрипта вам понадобится библиотека PyTorch (инструкции по установке можно найти на сайте <a href=\"http://pytorch.org\">pytorch.org</a>)"
   ]
  },
  {
   "cell_type": "code",
   "execution_count": 1,
   "metadata": {},
   "outputs": [],
   "source": [
    "import matplotlib.pyplot as plt\n",
    "import tensorflow as tf\n",
    "from torch.utils.data import DataLoader\n",
    "from torchvision.datasets import MNIST\n",
    "from torchvision import transforms\n",
    "import numpy as np\n",
    "from sklearn.utils import shuffle\n",
    "from layers import Linear, Sigmoid, NLLLoss, NeuralNetwork # Results from Seminar 1\n",
    "%matplotlib inline\n",
    "\n",
    "from sklearn.model_selection import train_test_split\n",
    "from skimage.transform import rotate as rotation"
   ]
  },
  {
   "cell_type": "code",
   "execution_count": 2,
   "metadata": {},
   "outputs": [],
   "source": [
    "transform = transforms.Compose([\n",
    "                       transforms.ToTensor(),\n",
    "                       transforms.Normalize((0.1307,), (0.3081,))\n",
    "                    ])\n",
    "train_dataset = MNIST('.', train=True, download=True, transform=transform)\n",
    "test_dataset = MNIST('.', train=False, transform=transform)\n",
    "\n",
    "train_loader = DataLoader(train_dataset, batch_size=32, shuffle=True)\n",
    "test_loader = DataLoader(test_dataset, batch_size=32, shuffle=True)"
   ]
  },
  {
   "cell_type": "code",
   "execution_count": 3,
   "metadata": {},
   "outputs": [],
   "source": [
    "for X, y in train_loader:\n",
    "    X = X.view(X.shape[0], -1)\n",
    "    X = X.numpy() ### Converts torch.Tensor to numpy array\n",
    "    y = y.numpy()\n",
    "    pass\n",
    "\n",
    "base_y = y\n",
    "base_X = X"
   ]
  },
  {
   "cell_type": "code",
   "execution_count": 24,
   "metadata": {},
   "outputs": [],
   "source": [
    "for X_test, y_test in test_loader:\n",
    "    X_test = X_test.view(X_test.shape[0], -1)\n",
    "    X_test = X_test.numpy() ### Converts torch.Tensor to numpy array\n",
    "    y_test = y_test.numpy()\n",
    "    pass"
   ]
  },
  {
   "cell_type": "code",
   "execution_count": 25,
   "metadata": {},
   "outputs": [
    {
     "data": {
      "text/plain": [
       "16"
      ]
     },
     "execution_count": 25,
     "metadata": {},
     "output_type": "execute_result"
    }
   ],
   "source": [
    "X_test.shape[0]"
   ]
  },
  {
   "cell_type": "code",
   "execution_count": 26,
   "metadata": {},
   "outputs": [
    {
     "data": {
      "image/png": "[encoded data removed]",
      "text/plain": [
       "<Figure size 1152x1224 with 16 Axes>"
      ]
     },
     "metadata": {
      "needs_background": "light"
     },
     "output_type": "display_data"
    }
   ],
   "source": [
    "plt.figure(figsize=(16, 17))\n",
    "for i in range(16):\n",
    "    plt.subplot(4, 4, i+1)\n",
    "    plt.imshow(X[i].reshape(28, 28), cmap=plt.cm.Greys_r)\n",
    "    plt.title(y[i])\n",
    "    plt.axis('off')"
   ]
  },
  {
   "cell_type": "markdown",
   "metadata": {},
   "source": [
    "### Часть 1: MNIST\n",
    "Обучите полносвязную нейронную сеть с архитектурой 784-100-100-10 и сигмоидой в качестве нелинейности. Какую точность классификации удалось получить? Нарисуйте график сходимости на обучающей и тестовой выборках. В качестве темпа обучения (learning rate) возьмите 0.01"
   ]
  },
  {
   "cell_type": "code",
   "execution_count": 150,
   "metadata": {},
   "outputs": [],
   "source": [
    "def training(NN, loss, X, y, learning_rate, \n",
    "             slowdown, epoch, show_loss=False, show_period=10):\n",
    "    print(\"Epoch = \", epoch)\n",
    "    for i in range(epoch):\n",
    "        predict = NN.forward(X)\n",
    "        l = loss.forward(predict, y)\n",
    "        if (show_loss and i % show_period == 0):\n",
    "            print(\"loss = \", l, \"   learning_rate = \", learning_rate)\n",
    "        NN.backward(loss.backward())\n",
    "        NN.step(learning_rate)\n",
    "        learning_rate = slowdown * learning_rate\n",
    "        \n",
    "def dynamic_train(NN, loss, X, y, learning_rate=0.005, baseline=0.05, threshold=50000):\n",
    "    l = 1000\n",
    "    epoch = 0\n",
    "    while (l > baseline and epoch < threshold):\n",
    "        predict = NN.forward(X)\n",
    "        l = loss.forward(predict, y)\n",
    "        NN.backward(loss.backward())\n",
    "        NN.step(learning_rate)\n",
    "        epoch += 1\n",
    "    return l;\n",
    "        \n",
    "def predict(NN, loss, X, y):\n",
    "    return loss.forward(NN.forward(X), y)"
   ]
  },
  {
   "cell_type": "code",
   "execution_count": 50,
   "metadata": {},
   "outputs": [],
   "source": [
    "lin1 = Linear(784, 100)\n",
    "sig1 = Sigmoid()\n",
    "lin2 = Linear(100, 10)\n",
    "loss = NLLLoss()\n",
    "modules = [lin1, sig1, lin2]\n",
    "NN_sig = NeuralNetwork(modules)\n",
    "learning_rate = 0.05\n",
    "slowdown = 1\n",
    "epoch = 300"
   ]
  },
  {
   "cell_type": "code",
   "execution_count": 51,
   "metadata": {},
   "outputs": [
    {
     "name": "stdout",
     "output_type": "stream",
     "text": [
      "Epoch =  300\n",
      "2.3139473854878787\n",
      "2.2061067337569265\n",
      "2.176961152294312\n",
      "2.142003007414998\n",
      "2.0945720732532207\n",
      "2.0298423690046548\n",
      "1.9457344641366872\n",
      "1.8449404456510323\n",
      "1.7335112667728771\n",
      "1.617050130142927\n",
      "1.4990999445730024\n",
      "1.3820392357402027\n",
      "1.2679076411196286\n",
      "1.1584115502692254\n",
      "1.0547102771812265\n",
      "0.9573900218368805\n",
      "0.8666246507489993\n",
      "0.7823830955219907\n",
      "0.7045771802619368\n",
      "0.6331210420147728\n",
      "0.5679260350543336\n",
      "0.5088686542494119\n",
      "0.4557600420818929\n",
      "0.4083313637754277\n",
      "0.3662371808040131\n",
      "0.32907164348801754\n",
      "0.29639055295099165\n",
      "0.26773400983883205\n",
      "0.24264655863819484\n",
      "0.22069322011347903\n"
     ]
    }
   ],
   "source": [
    "training(NN_sig, loss, X, y, learning_rate, slowdown, epoch, show_loss=True)"
   ]
  },
  {
   "cell_type": "markdown",
   "metadata": {},
   "source": [
    "### Часть 2: Нелинейности"
   ]
  },
  {
   "cell_type": "markdown",
   "metadata": {},
   "source": [
    "Обучите нейронную сеть с другими нелинейностями: ReLU и ELU. Сравните скорости сходимости и качество классификации с различными функциями активации."
   ]
  },
  {
   "cell_type": "code",
   "execution_count": 52,
   "metadata": {},
   "outputs": [],
   "source": [
    "class ReLU:\n",
    "    def __init__(self):\n",
    "        pass\n",
    "    \n",
    "    def forward(self, X):\n",
    "        '''\n",
    "        Passes objects through this layer.\n",
    "        X is np.array of size (N, d)\n",
    "        '''\n",
    "        self.X = X\n",
    "        return X * (X > 0) + X * 0.01 * (X < 0) \n",
    "    \n",
    "    def backward(self, dLdy):\n",
    "        '''\n",
    "        1. Compute dLdx.\n",
    "        2. Return dLdx\n",
    "        '''\n",
    "        return dLdy * ((self.X > 0) + (self.X < 0) * 0.01)\n",
    "    \n",
    "    def step(self, learning_rate):\n",
    "        pass"
   ]
  },
  {
   "cell_type": "code",
   "execution_count": 53,
   "metadata": {},
   "outputs": [],
   "source": [
    "lin1 = Linear(784, 100)\n",
    "relu1 = ReLU()\n",
    "lin2 = Linear(100, 10)\n",
    "loss = NLLLoss()\n",
    "modules = [lin1, relu1, lin2]\n",
    "NN_relu = NeuralNetwork(modules)\n",
    "learning_rate = 0.05\n",
    "slowdown = 1\n",
    "epoch = 100"
   ]
  },
  {
   "cell_type": "code",
   "execution_count": 54,
   "metadata": {},
   "outputs": [
    {
     "name": "stdout",
     "output_type": "stream",
     "text": [
      "Epoch =  100\n",
      "2.303858152978032\n",
      "1.98370287030097\n",
      "1.5541115549825784\n",
      "0.9530507748396754\n",
      "0.4622476321018106\n",
      "0.2150532691012031\n",
      "0.11776403603672232\n",
      "0.07518023681761354\n",
      "0.05319483726038943\n",
      "0.040315321511845074\n"
     ]
    }
   ],
   "source": [
    "training(NN_relu, loss, X, y, learning_rate, slowdown, epoch, show_loss=True)"
   ]
  },
  {
   "cell_type": "code",
   "execution_count": 55,
   "metadata": {},
   "outputs": [],
   "source": [
    "class ELU:\n",
    "    def __init__(self):\n",
    "        pass\n",
    "    \n",
    "    def forward(self, X):\n",
    "        '''\n",
    "        Passes objects through this layer.\n",
    "        X is np.array of size (N, d)\n",
    "        '''\n",
    "        self.X = X\n",
    "        return X * (X > 0) + (np.exp(X) - 1) * (X < 0) \n",
    "    \n",
    "    def backward(self, dLdy):\n",
    "        '''\n",
    "        1. Compute dLdx.\n",
    "        2. Return dLdx\n",
    "        '''\n",
    "        return dLdy * ((self.X > 0) + np.exp(self.X) * (self.X < 0))\n",
    "    \n",
    "    def step(self, learning_rate):\n",
    "        pass"
   ]
  },
  {
   "cell_type": "code",
   "execution_count": 56,
   "metadata": {},
   "outputs": [],
   "source": [
    "lin1 = Linear(784, 100)\n",
    "elu1 = ELU()\n",
    "lin2 = Linear(100, 10)\n",
    "loss = NLLLoss()\n",
    "modules = [lin1, elu1, lin2]\n",
    "NN_elu = NeuralNetwork(modules)\n",
    "learning_rate = 0.05\n",
    "slowdown = 1\n",
    "epoch = 100"
   ]
  },
  {
   "cell_type": "code",
   "execution_count": 57,
   "metadata": {},
   "outputs": [
    {
     "name": "stdout",
     "output_type": "stream",
     "text": [
      "Epoch =  100\n",
      "2.296300177487035\n",
      "1.8490195186029594\n",
      "1.227565482242523\n",
      "0.6482652923221817\n",
      "0.30578524705387194\n",
      "0.15738357434719202\n",
      "0.09488069189862035\n",
      "0.06451017854607968\n",
      "0.047563840786365386\n",
      "0.037070512990283105\n"
     ]
    }
   ],
   "source": [
    "training(NN_elu, loss, X, y, learning_rate, slowdown, epoch, show_loss=True)"
   ]
  },
  {
   "cell_type": "markdown",
   "metadata": {},
   "source": [
    "### Часть 3: Анализ ошибок\n",
    "На каких объектах сеть ошибается больше всего?"
   ]
  },
  {
   "cell_type": "code",
   "execution_count": null,
   "metadata": {},
   "outputs": [],
   "source": []
  },
  {
   "cell_type": "markdown",
   "metadata": {},
   "source": [
    "### HW1 (1 балл): Реализовать Tanh"
   ]
  },
  {
   "cell_type": "code",
   "execution_count": 58,
   "metadata": {},
   "outputs": [],
   "source": [
    "class Tanh:\n",
    "    def __init__(self):\n",
    "        pass\n",
    "    \n",
    "    def forward(self, X):\n",
    "        '''\n",
    "        Passes objects through this layer.\n",
    "        X is np.array of size (N, d)\n",
    "        '''\n",
    "        self.s = 2. / (1 + np.exp(-X**2)) - 1\n",
    "        return self.s\n",
    "    \n",
    "    def backward(self, dLdy):\n",
    "        '''\n",
    "        1. Compute dLdx.\n",
    "        2. Return dLdx\n",
    "        '''\n",
    "        return (-self.s**2 + 1) * dLdy\n",
    "    \n",
    "    def step(self, learning_rate):\n",
    "        pass"
   ]
  },
  {
   "cell_type": "code",
   "execution_count": 59,
   "metadata": {},
   "outputs": [],
   "source": [
    "lin1 = Linear(784, 100)\n",
    "tanh1 = Tanh()\n",
    "lin2 = Linear(100, 10)\n",
    "loss = NLLLoss()\n",
    "modules = [lin1, tanh1, lin2]\n",
    "NN_tanh = NeuralNetwork(modules)\n",
    "learning_rate = 0.05\n",
    "slowdown = 1\n",
    "epoch = 100"
   ]
  },
  {
   "cell_type": "code",
   "execution_count": 60,
   "metadata": {},
   "outputs": [
    {
     "name": "stdout",
     "output_type": "stream",
     "text": [
      "Epoch =  100\n",
      "0.030057953489972405\n",
      "0.025096817234119703\n",
      "0.021430216352843628\n",
      "0.018625645033766288\n",
      "0.016420352411763546\n",
      "0.014646571742485605\n",
      "0.013192697422970868\n",
      "0.011981885101322868\n",
      "0.010959656053021134\n",
      "0.010086406252869159\n"
     ]
    }
   ],
   "source": [
    "training(NN_elu, loss, X, y, learning_rate, slowdown, epoch, show_loss=True)"
   ]
  },
  {
   "cell_type": "markdown",
   "metadata": {},
   "source": [
    "### Часть 4: Аугментация (HW, 2 балла)\n",
    "* Небольшие вращения (-15, 15)\n",
    "* Случайные сдвиги\n",
    "* Шум\n",
    "\n",
    "Какой прирост дают эти аугментации вместе и по отдельности"
   ]
  },
  {
   "cell_type": "markdown",
   "metadata": {},
   "source": [
    "Аугментирование вращениями - устойчивость НС к различным поворотам изображения"
   ]
  },
  {
   "cell_type": "code",
   "execution_count": 269,
   "metadata": {},
   "outputs": [],
   "source": [
    "def angle_augmentation(X, y, angle):\n",
    "    boost_images = []\n",
    "    boost_targets = []\n",
    "    for j in range(X.shape[0]):\n",
    "        sup = X[j].reshape(28, 28)\n",
    "        for i in range(2 * angle // 5):\n",
    "            boost_images.append(rotation(X[j].reshape(28, 28), (i * 5 - angle)).reshape(784))\n",
    "            boost_targets.append(y[j])\n",
    "\n",
    "    boost_images, boost_targets = shuffle(np.array(boost_images), np.array(boost_targets), random_state=0)\n",
    "    return boost_images, boost_targets"
   ]
  },
  {
   "cell_type": "code",
   "execution_count": 311,
   "metadata": {},
   "outputs": [],
   "source": [
    "boost_images, boost_targets = angle_augmentation(X, y, 15)"
   ]
  },
  {
   "cell_type": "code",
   "execution_count": 312,
   "metadata": {},
   "outputs": [
    {
     "name": "stdout",
     "output_type": "stream",
     "text": [
      "Epoch =  100\n",
      "loss =  2.3069864384292402    learning_rate =  0.12\n",
      "loss =  1.3450127797501004    learning_rate =  0.12\n",
      "loss =  0.4351312977334098    learning_rate =  0.12\n",
      "loss =  0.1609816851724808    learning_rate =  0.12\n",
      "loss =  0.08235533549059809    learning_rate =  0.12\n",
      "loss =  0.051671247561452804    learning_rate =  0.12\n",
      "loss =  0.03643795934146021    learning_rate =  0.12\n",
      "loss =  0.027633693168168008    learning_rate =  0.12\n",
      "loss =  0.022005125567533645    learning_rate =  0.12\n",
      "loss =  0.018142527010814702    learning_rate =  0.12\n"
     ]
    }
   ],
   "source": [
    "lin1 = Linear(784, 100)\n",
    "elu1 = ELU()\n",
    "lin2 = Linear(100, 10)\n",
    "loss = NLLLoss()\n",
    "modules = [lin1, elu1, lin2]\n",
    "NN_mnist = NeuralNetwork(modules)\n",
    "learning_rate = 0.12\n",
    "slowdown = 1\n",
    "epoch = 100\n",
    "show_loss = True\n",
    "show_period = 10\n",
    "\n",
    "training(NN_mnist, loss, boost_images, boost_targets, \n",
    "         learning_rate, slowdown, epoch, show_loss, show_period)"
   ]
  },
  {
   "cell_type": "code",
   "execution_count": 313,
   "metadata": {},
   "outputs": [
    {
     "data": {
      "text/plain": [
       "0.5526083772404473"
      ]
     },
     "execution_count": 313,
     "metadata": {},
     "output_type": "execute_result"
    }
   ],
   "source": [
    "predict(NN_mnist, loss, X_test, y_test)"
   ]
  },
  {
   "cell_type": "code",
   "execution_count": null,
   "metadata": {},
   "outputs": [],
   "source": []
  },
  {
   "cell_type": "markdown",
   "metadata": {},
   "source": [
    "Аугментирование шумами - устойчивость НС к случайным цветовым искажениям"
   ]
  },
  {
   "cell_type": "code",
   "execution_count": 273,
   "metadata": {},
   "outputs": [],
   "source": [
    "def noise_augmentation(X, y, noise):\n",
    "    boost_images = []\n",
    "    boost_targets = []\n",
    "    for j in range(X.shape[0]):\n",
    "        boost_images.append(X[j])\n",
    "        boost_images.append(X[j] + np.random.randint(-noise, noise, size=(784)) / 5000)\n",
    "        boost_images.append(X[j] + np.random.randint(-noise, noise, size=(784)) / 5000)\n",
    "        \n",
    "        for k in range(3):\n",
    "            boost_targets.append(y[j])\n",
    "\n",
    "    boost_images, boost_targets = shuffle(np.array(boost_images), np.array(boost_targets), random_state=0)\n",
    "    return boost_images, boost_targets    "
   ]
  },
  {
   "cell_type": "code",
   "execution_count": 308,
   "metadata": {},
   "outputs": [],
   "source": [
    "boost_images, boost_targets = noise_augmentation(X, y, 1200)"
   ]
  },
  {
   "cell_type": "code",
   "execution_count": 309,
   "metadata": {},
   "outputs": [
    {
     "name": "stdout",
     "output_type": "stream",
     "text": [
      "Epoch =  100\n",
      "loss =  2.3108139481180587    learning_rate =  0.12\n",
      "loss =  1.0377453894762785    learning_rate =  0.12\n",
      "loss =  0.18262053073649823    learning_rate =  0.12\n",
      "loss =  0.059726322714199594    learning_rate =  0.12\n",
      "loss =  0.031918167942414026    learning_rate =  0.12\n",
      "loss =  0.020959415035203852    learning_rate =  0.12\n",
      "loss =  0.015312920652516293    learning_rate =  0.12\n",
      "loss =  0.01193179024145527    learning_rate =  0.12\n",
      "loss =  0.009704398676019943    learning_rate =  0.12\n",
      "loss =  0.008137234524741561    learning_rate =  0.12\n"
     ]
    }
   ],
   "source": [
    "lin1 = Linear(784, 100)\n",
    "elu1 = ELU()\n",
    "lin2 = Linear(100, 10)\n",
    "loss = NLLLoss()\n",
    "modules = [lin1, elu1, lin2]\n",
    "NN_mnist = NeuralNetwork(modules)\n",
    "learning_rate = 0.12\n",
    "slowdown = 1\n",
    "epoch = 100\n",
    "show_loss = True\n",
    "show_period = 10\n",
    "\n",
    "training(NN_mnist, loss, boost_images, boost_targets, \n",
    "         learning_rate, slowdown, epoch, show_loss, show_period)"
   ]
  },
  {
   "cell_type": "code",
   "execution_count": 310,
   "metadata": {},
   "outputs": [
    {
     "data": {
      "text/plain": [
       "0.5512403922399809"
      ]
     },
     "execution_count": 310,
     "metadata": {},
     "output_type": "execute_result"
    }
   ],
   "source": [
    "predict(NN_mnist, loss, X_test, y_test)"
   ]
  },
  {
   "cell_type": "code",
   "execution_count": null,
   "metadata": {},
   "outputs": [],
   "source": []
  },
  {
   "cell_type": "markdown",
   "metadata": {},
   "source": [
    "Аугментация сдвигами - устойчивость НС к различным смещениям анализируемого изображения"
   ]
  },
  {
   "cell_type": "code",
   "execution_count": 278,
   "metadata": {},
   "outputs": [],
   "source": [
    "def shift_augmentation(X, y, left_shift, right_shift):\n",
    "    boost_images = []\n",
    "    boost_targets = []\n",
    "    b = np.zeros(28, dtype = int).reshape(28, 1)\n",
    "    for j in range(X.shape[0]):\n",
    "        sup = X[j].reshape(28, 28)\n",
    "        tmp = sup\n",
    "        boost_images.append(X[j])\n",
    "        \n",
    "        for i in range(left_shift):\n",
    "            tmp = np.column_stack((b, tmp.T[:-1:].T))\n",
    "        boost_images.append(tmp.reshape(784))\n",
    "        \n",
    "        for i in range(right_shift):\n",
    "            sup = np.column_stack((b, sup.T[:-1:].T))\n",
    "        boost_images.append(sup.reshape(784))\n",
    "\n",
    "        for k in range(3):\n",
    "            boost_targets.append(y[j])\n",
    "\n",
    "    boost_images, boost_targets = shuffle(np.array(boost_images), np.array(boost_targets), random_state=0)\n",
    "    return boost_images, boost_targets  "
   ]
  },
  {
   "cell_type": "code",
   "execution_count": 284,
   "metadata": {},
   "outputs": [],
   "source": [
    "boost_images, boost_targets = shift_augmentation(X, y, 2, 2)"
   ]
  },
  {
   "cell_type": "code",
   "execution_count": 285,
   "metadata": {},
   "outputs": [
    {
     "name": "stdout",
     "output_type": "stream",
     "text": [
      "Epoch =  100\n",
      "loss =  2.3093973388914786    learning_rate =  0.12\n",
      "loss =  1.364976624750014    learning_rate =  0.12\n",
      "loss =  0.42314721665030275    learning_rate =  0.12\n",
      "loss =  0.13948585372916883    learning_rate =  0.12\n",
      "loss =  0.06734143018243179    learning_rate =  0.12\n",
      "loss =  0.041044669865462534    learning_rate =  0.12\n",
      "loss =  0.028512071820771884    learning_rate =  0.12\n",
      "loss =  0.021443665239094235    learning_rate =  0.12\n",
      "loss =  0.016992530197783313    learning_rate =  0.12\n",
      "loss =  0.01396752139079778    learning_rate =  0.12\n"
     ]
    }
   ],
   "source": [
    "lin1 = Linear(784, 100)\n",
    "elu1 = ELU()\n",
    "lin2 = Linear(100, 10)\n",
    "loss = NLLLoss()\n",
    "modules = [lin1, elu1, lin2]\n",
    "NN_mnist = NeuralNetwork(modules)\n",
    "learning_rate = 0.12\n",
    "slowdown = 1\n",
    "epoch = 100\n",
    "show_loss = True\n",
    "show_period = 10\n",
    "\n",
    "training(NN_mnist, loss, boost_images, boost_targets, \n",
    "         learning_rate, slowdown, epoch, show_loss, show_period)"
   ]
  },
  {
   "cell_type": "code",
   "execution_count": 286,
   "metadata": {},
   "outputs": [
    {
     "data": {
      "text/plain": [
       "0.8902192647985077"
      ]
     },
     "execution_count": 286,
     "metadata": {},
     "output_type": "execute_result"
    }
   ],
   "source": [
    "predict(NN_mnist, loss, X_test, y_test)"
   ]
  },
  {
   "cell_type": "code",
   "execution_count": null,
   "metadata": {},
   "outputs": [],
   "source": []
  },
  {
   "cell_type": "markdown",
   "metadata": {},
   "source": [
    "Аугментация шумами и вращениями улучшает результат, в то время как сдвиги ухудшают. "
   ]
  },
  {
   "cell_type": "code",
   "execution_count": null,
   "metadata": {},
   "outputs": [],
   "source": []
  },
  {
   "cell_type": "code",
   "execution_count": 75,
   "metadata": {},
   "outputs": [],
   "source": [
    "def augmentation(X, y, angle):\n",
    "    boost_images = []\n",
    "    boost_targets = []\n",
    "    b = np.zeros(28, dtype = int).reshape(28, 1)\n",
    "\n",
    "    for j in range(X.shape[0]):\n",
    "        sup = X[j].reshape(28, 28)\n",
    "        for i in range(2 * angle // 5):\n",
    "            \"\"\"\n",
    "            image without augmentation\n",
    "            \"\"\"\n",
    "            boost_images.append(X[j])\n",
    "            \"\"\"\n",
    "            rotaion (-10, 10)\n",
    "            \"\"\"\n",
    "            base = rotation(X[j].reshape(28, 28), (i * 5 - angle)).reshape(784)\n",
    "            \"\"\"\n",
    "            random noises\n",
    "            \"\"\"\n",
    "            boost_images.append(base + np.random.randint(-400, 400, size=(784)) / 5000)\n",
    "            boost_images.append(base + np.random.randint(-400, 400, size=(784)) / 5000)\n",
    "            \"\"\"\n",
    "            shifts\n",
    "            \"\"\"\n",
    "            boost_images.append(np.column_stack((b, sup.T[:-1:].T)).reshape(784))\n",
    "            boost_images.append(np.column_stack((sup.T[:-1:].T, b)).reshape(784))\n",
    "        \n",
    "        for k in range(2 * angle):\n",
    "            boost_targets.append(y[j])\n",
    "\n",
    "    boost_images, boost_targets = shuffle(np.array(boost_images), np.array(boost_targets), random_state=0)\n",
    "    return boost_images, boost_targets    "
   ]
  },
  {
   "cell_type": "code",
   "execution_count": 76,
   "metadata": {},
   "outputs": [],
   "source": [
    "boost_images, boost_targets = images_augmentation(X, y, 10)"
   ]
  },
  {
   "cell_type": "code",
   "execution_count": 314,
   "metadata": {},
   "outputs": [
    {
     "data": {
      "text/plain": [
       "(-0.5, 27.5, 27.5, -0.5)"
      ]
     },
     "execution_count": 314,
     "metadata": {},
     "output_type": "execute_result"
    },
    {
     "data": {
      "image/png": "[encoded data removed]",
      "text/plain": [
       "<Figure size 432x504 with 1 Axes>"
      ]
     },
     "metadata": {
      "needs_background": "light"
     },
     "output_type": "display_data"
    }
   ],
   "source": [
    "plt.figure(figsize=(6, 7))\n",
    "plt.subplot(1, 1, 1)\n",
    "plt.imshow(boost_images[46].reshape(28, 28), cmap=plt.cm.Greys_r)\n",
    "plt.title(boost_targets[46])\n",
    "plt.axis('off')"
   ]
  },
  {
   "cell_type": "markdown",
   "metadata": {},
   "source": [
    "Обучите нейронную сеть с другими нелинейностями: ReLU и ELU. Сравните скорости сходимости и качество классификации с различными функциями активации."
   ]
  },
  {
   "cell_type": "markdown",
   "metadata": {},
   "source": [
    "# Обучение на аугментированных данных"
   ]
  },
  {
   "cell_type": "code",
   "execution_count": 241,
   "metadata": {},
   "outputs": [],
   "source": [
    "lin1 = Linear(784, 100)\n",
    "elu1 = ELU()\n",
    "lin2 = Linear(100, 10)\n",
    "loss = NLLLoss()\n",
    "modules = [lin1, elu1, lin2]\n",
    "NN_mnist = NeuralNetwork(modules)\n",
    "learning_rate = 0.12\n",
    "slowdown = 1\n",
    "epoch = 100\n",
    "show_loss = True\n",
    "show_period = 10"
   ]
  },
  {
   "cell_type": "code",
   "execution_count": 242,
   "metadata": {},
   "outputs": [
    {
     "name": "stdout",
     "output_type": "stream",
     "text": [
      "Epoch =  100\n",
      "loss =  2.2944328382788135    learning_rate =  0.12\n",
      "loss =  1.1253892399486047    learning_rate =  0.12\n",
      "loss =  0.26796065620491705    learning_rate =  0.12\n",
      "loss =  0.09607500259407736    learning_rate =  0.12\n",
      "loss =  0.05174908144907977    learning_rate =  0.12\n",
      "loss =  0.033926494086758345    learning_rate =  0.12\n",
      "loss =  0.024718546303611384    learning_rate =  0.12\n",
      "loss =  0.019209939377118117    learning_rate =  0.12\n",
      "loss =  0.015587695307910923    learning_rate =  0.12\n",
      "loss =  0.013044256733379823    learning_rate =  0.12\n"
     ]
    }
   ],
   "source": [
    "training(NN_mnist, loss, boost_images, boost_targets, \n",
    "         learning_rate, slowdown, epoch, show_loss, show_period)"
   ]
  },
  {
   "cell_type": "code",
   "execution_count": 243,
   "metadata": {},
   "outputs": [
    {
     "data": {
      "text/plain": [
       "0.5601158469399983"
      ]
     },
     "execution_count": 243,
     "metadata": {},
     "output_type": "execute_result"
    }
   ],
   "source": [
    "predict(NN_mnist, loss, X_test, y_test)"
   ]
  },
  {
   "cell_type": "code",
   "execution_count": null,
   "metadata": {},
   "outputs": [],
   "source": []
  },
  {
   "cell_type": "markdown",
   "metadata": {},
   "source": [
    "# Обучение на стандартных данных"
   ]
  },
  {
   "cell_type": "code",
   "execution_count": 235,
   "metadata": {},
   "outputs": [],
   "source": [
    "lin1 = Linear(784, 100)\n",
    "elu1 = ELU()\n",
    "lin2 = Linear(100, 10)\n",
    "loss = NLLLoss()\n",
    "modules = [lin1, elu1, lin2]\n",
    "NN_elu = NeuralNetwork(modules)\n",
    "learning_rate = 0.12\n",
    "slowdown = 1\n",
    "show_loss = True\n",
    "epoch = 100\n",
    "show_period = 10"
   ]
  },
  {
   "cell_type": "code",
   "execution_count": 236,
   "metadata": {},
   "outputs": [
    {
     "name": "stdout",
     "output_type": "stream",
     "text": [
      "Epoch =  100\n",
      "loss =  2.3017141091958746    learning_rate =  0.12\n",
      "loss =  1.0151377739481515    learning_rate =  0.12\n",
      "loss =  0.17294627830819753    learning_rate =  0.12\n",
      "loss =  0.057667525573321776    learning_rate =  0.12\n",
      "loss =  0.031150872059542242    learning_rate =  0.12\n",
      "loss =  0.020578066313759427    learning_rate =  0.12\n",
      "loss =  0.015091543687038304    learning_rate =  0.12\n",
      "loss =  0.011790415135122861    learning_rate =  0.12\n",
      "loss =  0.0096082003556862    learning_rate =  0.12\n",
      "loss =  0.008068791707448557    learning_rate =  0.12\n"
     ]
    }
   ],
   "source": [
    "training(NN_elu, loss, X, y, learning_rate, slowdown, epoch, show_loss, show_period)"
   ]
  },
  {
   "cell_type": "code",
   "execution_count": 237,
   "metadata": {},
   "outputs": [
    {
     "data": {
      "text/plain": [
       "0.6328405736458789"
      ]
     },
     "execution_count": 237,
     "metadata": {},
     "output_type": "execute_result"
    }
   ],
   "source": [
    "predict(NN_elu, loss, X_test, y_test)"
   ]
  },
  {
   "cell_type": "code",
   "execution_count": null,
   "metadata": {},
   "outputs": [],
   "source": []
  },
  {
   "cell_type": "markdown",
   "metadata": {},
   "source": [
    "### Часть 5: Выводы\n",
    "Опишите полученные результаты: как влияют выбор нелинейности и предобработка данных на скорость сходимости и итоговое качество?"
   ]
  },
  {
   "cell_type": "markdown",
   "metadata": {
    "collapsed": true
   },
   "source": [
    "Выборы нелинейности оказывают значительное влияние на сходимости сети. Как показала практика на mnist, слои ReLU и ELU сходятся быстрее чем сигмоида. При этом сигмоида обеспечивает более равномерную сходимость, что повышает точность нейронной сети на большом объёме данных. При аугментации с помощью вращения (-10, 10 градусов, на 15 получалось слишком сильное искажение), единичного сдвига картинку влева и вправо, и добавлении шума  выборка раздулась в 100 раз. При этом искажения получились всё равно получились сильные. При учёте этих фактов, нейронная сеть смогла обучиться на достаточно маленьком наборе данных и при этом стать устойчивой к разным видам искажений."
   ]
  },
  {
   "cell_type": "markdown",
   "metadata": {},
   "source": [
    "При одинаковой архитектуре нейронной сети и одинаковом выборе параметров learning_rate, epoch, НС обученная на аугментированных данных показывает на тестовой выборке результат лучше чем НС, обученная на стандартном наборе. "
   ]
  },
  {
   "cell_type": "markdown",
   "metadata": {},
   "source": [
    "НС обученные на наборе изображений, аугментированных с помощью вращений и шумов, выдают результат приблизительно такой же,\n",
    "как НС обученная при использовании всех видов аугментации."
   ]
  },
  {
   "cell_type": "code",
   "execution_count": null,
   "metadata": {},
   "outputs": [],
   "source": []
  }
 ],
 "metadata": {
  "kernelspec": {
   "display_name": "Python 3",
   "language": "python",
   "name": "python3"
  },
  "language_info": {
   "codemirror_mode": {
    "name": "ipython",
    "version": 3
   },
   "file_extension": ".py",
   "mimetype": "text/x-python",
   "name": "python",
   "nbconvert_exporter": "python",
   "pygments_lexer": "ipython3",
   "version": "3.7.3"
  }
 },
 "nbformat": 4,
 "nbformat_minor": 2
}
